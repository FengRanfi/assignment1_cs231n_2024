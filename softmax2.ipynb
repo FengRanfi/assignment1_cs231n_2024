{
 "cells": [
  {
   "cell_type": "markdown",
   "source": [
    "# Softmax exercise\n",
    "\n",
    "*Complete and hand in this completed worksheet (including its outputs and any supporting code outside of the worksheet) with your assignment submission. For more details see the [assignments page](http://vision.stanford.edu/teaching/cs231n/assignments.html) on the course website.*\n",
    "\n",
    "This exercise is analogous to the SVM exercise. You will:\n",
    "\n",
    "- implement a fully-vectorized **loss function** for the Softmax classifier\n",
    "- implement the fully-vectorized expression for its **analytic gradient**\n",
    "- **check your implementation** with numerical gradient\n",
    "- use a validation set to **tune the learning rate and regularization** strength\n",
    "- **optimize** the loss function with **SGD**\n",
    "- **visualize** the final learned weights\n"
   ],
   "metadata": {
    "collapsed": false,
    "pycharm": {
     "name": "#%% md\n"
    }
   }
  },
  {
   "cell_type": "code",
   "execution_count": 1,
   "metadata": {
    "collapsed": true,
    "pycharm": {
     "name": "#%%\n"
    }
   },
   "outputs": [],
   "source": [
    "import random\n",
    "import numpy as np\n",
    "from cs231n.data_utils import load_CIFAR10\n",
    "import matplotlib.pyplot as plt\n",
    "\n",
    "%matplotlib inline\n",
    "plt.rcParams['figure.figsize'] = (10.0, 8.0) # set default size of plots\n",
    "plt.rcParams['image.interpolation'] = 'nearest'\n",
    "plt.rcParams['image.cmap'] = 'gray'\n",
    "\n",
    "# for auto-reloading extenrnal modules\n",
    "# see http://stackoverflow.com/questions/1907993/autoreload-of-modules-in-ipython\n",
    "%load_ext autoreload\n",
    "%autoreload 2"
   ]
  },
  {
   "cell_type": "code",
   "execution_count": 2,
   "outputs": [
    {
     "name": "stdout",
     "output_type": "stream",
     "text": [
      "Train data shape:  (49000, 3073)\n",
      "Train labels shape:  (49000,)\n",
      "Validation data shape:  (1000, 3073)\n",
      "Validation labels shape:  (1000,)\n",
      "Test data shape:  (1000, 3073)\n",
      "Test labels shape:  (1000,)\n",
      "dev data shape:  (500, 3073)\n",
      "dev labels shape:  (500,)\n"
     ]
    }
   ],
   "source": [
    "def get_CIFAR10_data(num_training=49000, num_validation=1000, num_test=1000, num_dev=500):\n",
    "    \"\"\"\n",
    "    Load the CIFAR-10 dataset from disk and perform preprocessing to prepare\n",
    "    it for the linear classifier. These are the same steps as we used for the\n",
    "    SVM, but condensed to a single function.\n",
    "    \"\"\"\n",
    "    # Load the raw CIFAR-10 data\n",
    "    cifar10_dir = 'cs231n/datasets/cifar-10-batches-py'\n",
    "\n",
    "    # Cleaning up variables to prevent loading data multiple times (which may cause memory issue)\n",
    "    try:\n",
    "       del X_train, y_train\n",
    "       del X_test, y_test\n",
    "       print('Clear previously loaded data.')\n",
    "    except:\n",
    "       pass\n",
    "\n",
    "    X_train, y_train, X_test, y_test = load_CIFAR10(cifar10_dir)\n",
    "\n",
    "    # subsample the data\n",
    "    mask = list(range(num_training, num_training + num_validation))\n",
    "    X_val = X_train[mask]\n",
    "    y_val = y_train[mask]\n",
    "    mask = list(range(num_training))\n",
    "    X_train = X_train[mask]\n",
    "    y_train = y_train[mask]\n",
    "    mask = list(range(num_test))\n",
    "    X_test = X_test[mask]\n",
    "    y_test = y_test[mask]\n",
    "    mask = np.random.choice(num_training, num_dev, replace=False)\n",
    "    X_dev = X_train[mask]\n",
    "    y_dev = y_train[mask]\n",
    "\n",
    "    # Preprocessing: reshape the image data into rows\n",
    "    X_train = np.reshape(X_train, (X_train.shape[0], -1))\n",
    "    X_val = np.reshape(X_val, (X_val.shape[0], -1))\n",
    "    X_test = np.reshape(X_test, (X_test.shape[0], -1))\n",
    "    X_dev = np.reshape(X_dev, (X_dev.shape[0], -1))\n",
    "\n",
    "    # Normalize the data: subtract the mean image\n",
    "    mean_image = np.mean(X_train, axis = 0)\n",
    "    X_train -= mean_image\n",
    "    X_val -= mean_image\n",
    "    X_test -= mean_image\n",
    "    X_dev -= mean_image\n",
    "\n",
    "    # add bias dimension and transform into columns\n",
    "    X_train = np.hstack([X_train, np.ones((X_train.shape[0], 1))])\n",
    "    X_val = np.hstack([X_val, np.ones((X_val.shape[0], 1))])\n",
    "    X_test = np.hstack([X_test, np.ones((X_test.shape[0], 1))])\n",
    "    X_dev = np.hstack([X_dev, np.ones((X_dev.shape[0], 1))])\n",
    "\n",
    "    return X_train, y_train, X_val, y_val, X_test, y_test, X_dev, y_dev\n",
    "\n",
    "\n",
    "# Invoke the above function to get our data.\n",
    "X_train, y_train, X_val, y_val, X_test, y_test, X_dev, y_dev = get_CIFAR10_data()\n",
    "print('Train data shape: ', X_train.shape)\n",
    "print('Train labels shape: ', y_train.shape)\n",
    "print('Validation data shape: ', X_val.shape)\n",
    "print('Validation labels shape: ', y_val.shape)\n",
    "print('Test data shape: ', X_test.shape)\n",
    "print('Test labels shape: ', y_test.shape)\n",
    "print('dev data shape: ', X_dev.shape)\n",
    "print('dev labels shape: ', y_dev.shape)"
   ],
   "metadata": {
    "collapsed": false,
    "pycharm": {
     "name": "#%%\n"
    }
   }
  },
  {
   "cell_type": "code",
   "execution_count": null,
   "outputs": [],
   "source": [],
   "metadata": {
    "collapsed": false,
    "pycharm": {
     "name": "#%%\n"
    }
   }
  },
  {
   "cell_type": "markdown",
   "source": [
    "## Softmax Classifier\n",
    "\n",
    "Your code for this section will all be written inside `cs231n/classifiers/softmax.py`.\n"
   ],
   "metadata": {
    "collapsed": false,
    "pycharm": {
     "name": "#%% md\n"
    }
   }
  },
  {
   "cell_type": "code",
   "execution_count": 3,
   "outputs": [
    {
     "name": "stdout",
     "output_type": "stream",
     "text": [
      "loss: 2.394117\n",
      "sanity check: 2.302585\n"
     ]
    }
   ],
   "source": [
    "# First implement the naive softmax loss function with nested loops.\n",
    "# Open the file cs231n/classifiers/softmax.py and implement the\n",
    "# softmax_loss_naive function.\n",
    "\n",
    "from cs231n.classifiers.softmax import softmax_loss_naive\n",
    "import time\n",
    "\n",
    "# Generate a random softmax weight matrix and use it to compute the loss.\n",
    "W = np.random.randn(3073, 10) * 0.0001\n",
    "loss, grad = softmax_loss_naive(W, X_dev, y_dev, 0.0)\n",
    "\n",
    "# As a rough sanity check, our loss should be something close to -log(0.1).\n",
    "print('loss: %f' % loss)\n",
    "print('sanity check: %f' % (-np.log(0.1)))"
   ],
   "metadata": {
    "collapsed": false,
    "pycharm": {
     "name": "#%%\n"
    }
   }
  },
  {
   "cell_type": "markdown",
   "source": [
    "**Inline Question 1**\n",
    "\n",
    "Why do we expect our loss to be close to -log(0.1)? Explain briefly.**\n",
    "\n",
    "$\\color{blue}{\\textit Your Answer:}$ *Fill this in*\n",
    "\n",
    "<img src=\"img/img.png\"></img>\n"
   ],
   "metadata": {
    "collapsed": false,
    "pycharm": {
     "name": "#%% md\n"
    }
   }
  },
  {
   "cell_type": "code",
   "execution_count": 4,
   "outputs": [
    {
     "name": "stdout",
     "output_type": "stream",
     "text": [
      "numerical: 1.020684 analytic: 1.020684, relative error: 2.669985e-08\n",
      "numerical: 2.227527 analytic: 2.227527, relative error: 1.697830e-08\n",
      "numerical: -0.089935 analytic: -0.089935, relative error: 9.140561e-08\n",
      "numerical: 1.388723 analytic: 1.388723, relative error: 9.755341e-09\n",
      "numerical: 0.337389 analytic: 0.337389, relative error: 6.182176e-08\n",
      "numerical: 1.547322 analytic: 1.547322, relative error: 4.962846e-09\n",
      "numerical: -1.322072 analytic: -1.322072, relative error: 2.480782e-08\n",
      "numerical: 1.603296 analytic: 1.603296, relative error: 2.320835e-08\n",
      "numerical: -0.936713 analytic: -0.936713, relative error: 3.476492e-08\n",
      "numerical: 0.391700 analytic: 0.391700, relative error: 1.249407e-07\n",
      "numerical: 3.666609 analytic: 3.666608, relative error: 6.098503e-09\n",
      "numerical: -3.028715 analytic: -3.028715, relative error: 1.643793e-09\n",
      "numerical: 0.114778 analytic: 0.114778, relative error: 1.511766e-08\n",
      "numerical: 1.584965 analytic: 1.584965, relative error: 3.622832e-09\n",
      "numerical: -2.749345 analytic: -2.749345, relative error: 2.689768e-08\n",
      "numerical: -1.292177 analytic: -1.292177, relative error: 2.878721e-08\n",
      "numerical: -1.457032 analytic: -1.457032, relative error: 2.984721e-08\n",
      "numerical: -0.414188 analytic: -0.414188, relative error: 2.109697e-08\n",
      "numerical: -0.762787 analytic: -0.762787, relative error: 2.609654e-09\n",
      "numerical: -0.636963 analytic: -0.636963, relative error: 6.369890e-08\n"
     ]
    }
   ],
   "source": [
    "# Complete the implementation of softmax_loss_naive and implement a (naive)\n",
    "# version of the gradient that uses nested loops.\n",
    "loss, grad = softmax_loss_naive(W, X_dev, y_dev, 0.0)\n",
    "\n",
    "# As we did for the SVM, use numeric gradient checking as a debugging tool.\n",
    "# The numeric gradient should be close to the analytic gradient.\n",
    "from cs231n.gradient_check import grad_check_sparse\n",
    "f = lambda w: softmax_loss_naive(w, X_dev, y_dev, 0.0)[0]\n",
    "grad_numerical = grad_check_sparse(f, W, grad, 10)\n",
    "\n",
    "# similar to SVM case, do another gradient check with regularization\n",
    "loss, grad = softmax_loss_naive(W, X_dev, y_dev, 5e1)\n",
    "f = lambda w: softmax_loss_naive(w, X_dev, y_dev, 5e1)[0]\n",
    "grad_numerical = grad_check_sparse(f, W, grad, 10)"
   ],
   "metadata": {
    "collapsed": false,
    "pycharm": {
     "name": "#%%\n"
    }
   }
  },
  {
   "cell_type": "code",
   "execution_count": 6,
   "outputs": [
    {
     "name": "stdout",
     "output_type": "stream",
     "text": [
      "naive loss: 2.394105e+00 computed in 0.025914s\n",
      "vectorized loss: 2.394105e+00 computed in 0.003987s\n",
      "Loss difference: 0.000000\n",
      "Gradient difference: 0.000000\n"
     ]
    }
   ],
   "source": [
    "# Now that we have a naive implementation of the softmax loss function and its gradient,\n",
    "# implement a vectorized version in softmax_loss_vectorized.\n",
    "# The two versions should compute the same results, but the vectorized version should be\n",
    "# much faster.\n",
    "tic = time.time()\n",
    "loss_naive, grad_naive = softmax_loss_naive(W, X_dev, y_dev, 0.000005)\n",
    "toc = time.time()\n",
    "print('naive loss: %e computed in %fs' % (loss_naive, toc - tic))\n",
    "\n",
    "from cs231n.classifiers.softmax import softmax_loss_vectorized\n",
    "tic = time.time()\n",
    "loss_vectorized, grad_vectorized = softmax_loss_vectorized(W, X_dev, y_dev, 0.000005)\n",
    "toc = time.time()\n",
    "print('vectorized loss: %e computed in %fs' % (loss_vectorized, toc - tic))\n",
    "\n",
    "# As we did for the SVM, we use the Frobenius norm to compare the two versions\n",
    "# of the gradient.\n",
    "grad_difference = np.linalg.norm(grad_naive - grad_vectorized, ord='fro')\n",
    "print('Loss difference: %f' % np.abs(loss_naive - loss_vectorized))\n",
    "print('Gradient difference: %f' % grad_difference)"
   ],
   "metadata": {
    "collapsed": false,
    "pycharm": {
     "name": "#%%\n"
    }
   }
  },
  {
   "cell_type": "code",
   "execution_count": 30,
   "outputs": [
    {
     "name": "stdout",
     "output_type": "stream",
     "text": [
      "0 0\n",
      "0 1\n",
      "0 2\n",
      "0 3\n",
      "0 4\n",
      "0 5\n",
      "0 6\n",
      "1 0\n",
      "1 1\n",
      "1 2\n",
      "1 3\n",
      "1 4\n",
      "1 5\n",
      "1 6\n",
      "2 0\n",
      "2 1\n",
      "2 2\n",
      "2 3\n",
      "2 4\n",
      "2 5\n",
      "2 6\n",
      "3 0\n",
      "3 1\n",
      "3 2\n",
      "3 3\n",
      "3 4\n",
      "3 5\n",
      "3 6\n",
      "4 0\n",
      "4 1\n",
      "4 2\n",
      "4 3\n",
      "4 4\n",
      "4 5\n",
      "4 6\n",
      "5 0\n",
      "5 1\n",
      "5 2\n",
      "5 3\n",
      "5 4\n",
      "5 5\n",
      "5 6\n",
      "6 0\n",
      "6 1\n",
      "6 2\n",
      "6 3\n",
      "6 4\n",
      "6 5\n",
      "6 6\n",
      "lr 5.000000e-08 reg 1.000000e+03 train accuracy: 0.201551 val accuracy: 0.214000\n",
      "lr 5.000000e-08 reg 2.000000e+03 train accuracy: 0.211163 val accuracy: 0.206000\n",
      "lr 5.000000e-08 reg 5.000000e+03 train accuracy: 0.224429 val accuracy: 0.215000\n",
      "lr 5.000000e-08 reg 1.000000e+04 train accuracy: 0.244347 val accuracy: 0.219000\n",
      "lr 5.000000e-08 reg 2.500000e+04 train accuracy: 0.309286 val accuracy: 0.313000\n",
      "lr 5.000000e-08 reg 5.000000e+04 train accuracy: 0.305204 val accuracy: 0.322000\n",
      "lr 5.000000e-08 reg 1.000000e+05 train accuracy: 0.298020 val accuracy: 0.305000\n",
      "lr 1.000000e-07 reg 1.000000e+03 train accuracy: 0.241347 val accuracy: 0.221000\n",
      "lr 1.000000e-07 reg 2.000000e+03 train accuracy: 0.238612 val accuracy: 0.264000\n",
      "lr 1.000000e-07 reg 5.000000e+03 train accuracy: 0.279816 val accuracy: 0.286000\n",
      "lr 1.000000e-07 reg 1.000000e+04 train accuracy: 0.330510 val accuracy: 0.347000\n",
      "lr 1.000000e-07 reg 2.500000e+04 train accuracy: 0.325918 val accuracy: 0.336000\n",
      "lr 1.000000e-07 reg 5.000000e+04 train accuracy: 0.312286 val accuracy: 0.327000\n",
      "lr 1.000000e-07 reg 1.000000e+05 train accuracy: 0.286633 val accuracy: 0.304000\n",
      "lr 5.000000e-07 reg 1.000000e+03 train accuracy: 0.361102 val accuracy: 0.368000\n",
      "lr 5.000000e-07 reg 2.000000e+03 train accuracy: 0.381184 val accuracy: 0.384000\n",
      "lr 5.000000e-07 reg 5.000000e+03 train accuracy: 0.372041 val accuracy: 0.383000\n",
      "lr 5.000000e-07 reg 1.000000e+04 train accuracy: 0.351633 val accuracy: 0.364000\n",
      "lr 5.000000e-07 reg 2.500000e+04 train accuracy: 0.316776 val accuracy: 0.332000\n",
      "lr 5.000000e-07 reg 5.000000e+04 train accuracy: 0.303184 val accuracy: 0.314000\n",
      "lr 5.000000e-07 reg 1.000000e+05 train accuracy: 0.294163 val accuracy: 0.306000\n",
      "lr 1.000000e-06 reg 1.000000e+03 train accuracy: 0.392347 val accuracy: 0.376000\n",
      "lr 1.000000e-06 reg 2.000000e+03 train accuracy: 0.389122 val accuracy: 0.409000\n",
      "lr 1.000000e-06 reg 5.000000e+03 train accuracy: 0.363816 val accuracy: 0.364000\n",
      "lr 1.000000e-06 reg 1.000000e+04 train accuracy: 0.349694 val accuracy: 0.358000\n",
      "lr 1.000000e-06 reg 2.500000e+04 train accuracy: 0.331429 val accuracy: 0.344000\n",
      "lr 1.000000e-06 reg 5.000000e+04 train accuracy: 0.306673 val accuracy: 0.313000\n",
      "lr 1.000000e-06 reg 1.000000e+05 train accuracy: 0.263143 val accuracy: 0.279000\n",
      "lr 2.000000e-06 reg 1.000000e+03 train accuracy: 0.396245 val accuracy: 0.392000\n",
      "lr 2.000000e-06 reg 2.000000e+03 train accuracy: 0.384306 val accuracy: 0.384000\n",
      "lr 2.000000e-06 reg 5.000000e+03 train accuracy: 0.358980 val accuracy: 0.362000\n",
      "lr 2.000000e-06 reg 1.000000e+04 train accuracy: 0.343327 val accuracy: 0.345000\n",
      "lr 2.000000e-06 reg 2.500000e+04 train accuracy: 0.298143 val accuracy: 0.311000\n",
      "lr 2.000000e-06 reg 5.000000e+04 train accuracy: 0.264061 val accuracy: 0.269000\n",
      "lr 2.000000e-06 reg 1.000000e+05 train accuracy: 0.249816 val accuracy: 0.234000\n",
      "lr 5.000000e-06 reg 1.000000e+03 train accuracy: 0.337776 val accuracy: 0.340000\n",
      "lr 5.000000e-06 reg 2.000000e+03 train accuracy: 0.326388 val accuracy: 0.331000\n",
      "lr 5.000000e-06 reg 5.000000e+03 train accuracy: 0.313082 val accuracy: 0.342000\n",
      "lr 5.000000e-06 reg 1.000000e+04 train accuracy: 0.261224 val accuracy: 0.272000\n",
      "lr 5.000000e-06 reg 2.500000e+04 train accuracy: 0.210469 val accuracy: 0.201000\n",
      "lr 5.000000e-06 reg 5.000000e+04 train accuracy: 0.136102 val accuracy: 0.129000\n",
      "lr 5.000000e-06 reg 1.000000e+05 train accuracy: 0.122653 val accuracy: 0.114000\n",
      "lr 1.000000e-05 reg 1.000000e+03 train accuracy: 0.239469 val accuracy: 0.241000\n",
      "lr 1.000000e-05 reg 2.000000e+03 train accuracy: 0.248653 val accuracy: 0.263000\n",
      "lr 1.000000e-05 reg 5.000000e+03 train accuracy: 0.165020 val accuracy: 0.179000\n",
      "lr 1.000000e-05 reg 1.000000e+04 train accuracy: 0.175837 val accuracy: 0.178000\n",
      "lr 1.000000e-05 reg 2.500000e+04 train accuracy: 0.141347 val accuracy: 0.143000\n",
      "lr 1.000000e-05 reg 5.000000e+04 train accuracy: 0.070898 val accuracy: 0.052000\n",
      "lr 1.000000e-05 reg 1.000000e+05 train accuracy: 0.127224 val accuracy: 0.155000\n",
      "best validation accuracy achieved during cross-validation:  0.409    info: (1e-06, 2000.0)\n"
     ]
    }
   ],
   "source": [
    "# Use the validation set to tune hyperparameters (regularization strength and\n",
    "# learning rate). You should experiment with different ranges for the learning\n",
    "# rates and regularization strengths; if you are careful you should be able to\n",
    "# get a classification accuracy of over 0.35 on the validation set.\n",
    "\n",
    "from cs231n.classifiers import Softmax\n",
    "results = {}\n",
    "best_res= None\n",
    "best_val = -1\n",
    "best_softmax = None\n",
    "\n",
    "################################################################################\n",
    "# TODO:                                                                        #\n",
    "# Use the validation set to set the learning rate and regularization strength. #\n",
    "# This should be identical to the validation that you did for the SVM; save    #\n",
    "# the best trained softmax classifer in best_softmax.                          #\n",
    "################################################################################\n",
    "\n",
    "# Provided as a reference. You may or may not want to change these hyperparameters\n",
    "learning_rates = [5e-8,1e-7, 5e-7,1e-6,2e-6,5e-6,1e-5]\n",
    "regularization_strengths = [1e3,2e3,5e3,1e4,2.5e4, 5e4,1e5]\n",
    "\n",
    "# *****START OF YOUR CODE (DO NOT DELETE/MODIFY THIS LINE)*****\n",
    "for i in range(len(learning_rates)):\n",
    "    for j in range(len(regularization_strengths)):\n",
    "        print(i,j)\n",
    "        SF=Softmax()\n",
    "        SF.train(X=X_train,y=y_train,learning_rate=learning_rates[i],reg=regularization_strengths[j],num_iters=1000,batch_size=200,verbose=False)\n",
    "        y_Valpre=SF.predict(X_val)\n",
    "        y_Trainpre=SF.predict(X_train)\n",
    "        tres=(np.sum(y_Trainpre==y_train)/y_train.shape[0],np.sum(y_Valpre==y_val)/y_val.shape[0])\n",
    "        results[(learning_rates[i],regularization_strengths[j])]=tres\n",
    "        if tres[1]>best_val:\n",
    "            best_val=tres[1]\n",
    "            best_res=(learning_rates[i],regularization_strengths[j])\n",
    "            best_softmax=SF\n",
    "\n",
    "# *****END OF YOUR CODE (DO NOT DELETE/MODIFY THIS LINE)*****\n",
    "\n",
    "# Print out results.\n",
    "for lr, reg in sorted(results):\n",
    "    train_accuracy, val_accuracy = results[(lr, reg)]\n",
    "    print('lr %e reg %e train accuracy: %f val accuracy: %f' % (\n",
    "                lr, reg, train_accuracy, val_accuracy))\n",
    "\n",
    "print('best validation accuracy achieved during cross-validation: ' , best_val,\"   info:\",best_res)"
   ],
   "metadata": {
    "collapsed": false,
    "pycharm": {
     "name": "#%%\n"
    }
   }
  },
  {
   "cell_type": "code",
   "execution_count": 31,
   "outputs": [
    {
     "name": "stdout",
     "output_type": "stream",
     "text": [
      "softmax on raw pixels final test set accuracy: 0.384000\n"
     ]
    }
   ],
   "source": [
    "# evaluate on test set\n",
    "# Evaluate the best softmax on test set\n",
    "y_test_pred = best_softmax.predict(X_test)\n",
    "test_accuracy = np.mean(y_test == y_test_pred)\n",
    "print('softmax on raw pixels final test set accuracy: %f' % (test_accuracy, ))"
   ],
   "metadata": {
    "collapsed": false,
    "pycharm": {
     "name": "#%%\n"
    }
   }
  },
  {
   "cell_type": "markdown",
   "source": [
    "**Inline Question 2** - *True or False*\n",
    "\n",
    "Suppose the overall training loss is defined as the sum of the per-datapoint loss over all training examples. It is possible to add a new datapoint to a training set that would leave the SVM loss unchanged, but this is not the case with the Softmax classifier loss.\n",
    "假设总体训练损失被定义为所有训练示例中每个数据点损失的总和。可以在训练集中添加一个新的数据点，使SVM损失保持不变，但Softmax分类器损失的情况并非如此。\n",
    "$\\color{blue}{\\textit Your Answer: False}$\n",
    "根据SVM和Softmax求损失函数的过程可知，加入一个新数据，前者可能出现损失函数为0的情况，而后者不会出现\n",
    "\n",
    "$\\color{blue}{\\textit Your Explanation:}$\n",
    "\n"
   ],
   "metadata": {
    "collapsed": false,
    "pycharm": {
     "name": "#%% md\n"
    }
   }
  },
  {
   "cell_type": "code",
   "execution_count": 32,
   "outputs": [
    {
     "data": {
      "text/plain": "<Figure size 1000x800 with 10 Axes>",
      "image/png": "[encoded data removed]"
     },
     "metadata": {},
     "output_type": "display_data"
    }
   ],
   "source": [
    "# Visualize the learned weights for each class\n",
    "w = best_softmax.W[:-1,:] # strip out the bias\n",
    "w = w.reshape(32, 32, 3, 10)\n",
    "\n",
    "w_min, w_max = np.min(w), np.max(w)\n",
    "\n",
    "classes = ['plane', 'car', 'bird', 'cat', 'deer', 'dog', 'frog', 'horse', 'ship', 'truck']\n",
    "for i in range(10):\n",
    "    plt.subplot(2, 5, i + 1)\n",
    "\n",
    "    # Rescale the weights to be between 0 and 255\n",
    "    wimg = 255.0 * (w[:, :, :, i].squeeze() - w_min) / (w_max - w_min)\n",
    "    plt.imshow(wimg.astype('uint8'))\n",
    "    plt.axis('off')\n",
    "    plt.title(classes[i])"
   ],
   "metadata": {
    "collapsed": false,
    "pycharm": {
     "name": "#%%\n"
    }
   }
  }
 ],
 "metadata": {
  "kernelspec": {
   "display_name": "Python 3",
   "language": "python",
   "name": "python3"
  },
  "language_info": {
   "codemirror_mode": {
    "name": "ipython",
    "version": 2
   },
   "file_extension": ".py",
   "mimetype": "text/x-python",
   "name": "python",
   "nbconvert_exporter": "python",
   "pygments_lexer": "ipython2",
   "version": "2.7.6"
  }
 },
 "nbformat": 4,
 "nbformat_minor": 0
}